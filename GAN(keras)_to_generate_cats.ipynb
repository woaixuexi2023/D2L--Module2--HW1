{
  "nbformat": 4,
  "nbformat_minor": 0,
  "metadata": {
    "colab": {
      "provenance": [],
      "machine_shape": "hm",
      "authorship_tag": "ABX9TyN7wsoQWeP4dpmAJkHm22t8",
      "include_colab_link": true
    },
    "kernelspec": {
      "name": "python3",
      "display_name": "Python 3"
    },
    "language_info": {
      "name": "python"
    },
    "accelerator": "GPU",
    "gpuClass": "premium"
  },
  "cells": [
    {
      "cell_type": "markdown",
      "metadata": {
        "id": "view-in-github",
        "colab_type": "text"
      },
      "source": [
        "<a href=\"https://colab.research.google.com/github/woaixuexi2023/D2L--Module2--HW1/blob/main/GAN(keras)_to_generate_cats.ipynb\" target=\"_parent\"><img src=\"https://colab.research.google.com/assets/colab-badge.svg\" alt=\"Open In Colab\"/></a>"
      ]
    },
    {
      "cell_type": "code",
      "execution_count": 1,
      "metadata": {
        "id": "xPX0yeIzurd7"
      },
      "outputs": [],
      "source": [
        "import tensorflow as tf\n",
        "from tensorflow import keras\n",
        "from keras import layers\n",
        "import numpy as np\n",
        "import matplotlib.pyplot as plt\n",
        "import os\n",
        "import gdown"
      ]
    },
    {
      "cell_type": "code",
      "source": [
        "#Use mountain drive\n",
        "from google.colab import drive\n",
        "drive.mount('/content/drive')"
      ],
      "metadata": {
        "colab": {
          "base_uri": "https://localhost:8080/"
        },
        "id": "x9mC3k0ZuzI-",
        "outputId": "86823702-e132-44aa-87b4-d878c5beb3a5"
      },
      "execution_count": 2,
      "outputs": [
        {
          "output_type": "stream",
          "name": "stdout",
          "text": [
            "Mounted at /content/drive\n"
          ]
        }
      ]
    },
    {
      "cell_type": "code",
      "source": [
        "#Navigate the direction where the file located\n",
        "%cd /content/drive/MyDrive/Cats/cats"
      ],
      "metadata": {
        "colab": {
          "base_uri": "https://localhost:8080/"
        },
        "id": "N8ytWbOMu0Hl",
        "outputId": "e136e3d9-188f-411a-a4cd-e062fc17905d"
      },
      "execution_count": 3,
      "outputs": [
        {
          "output_type": "stream",
          "name": "stdout",
          "text": [
            "/content/drive/MyDrive/Cats/cats\n"
          ]
        }
      ]
    },
    {
      "cell_type": "code",
      "source": [
        "#check the file \n",
        "!ls"
      ],
      "metadata": {
        "colab": {
          "base_uri": "https://localhost:8080/"
        },
        "id": "4wm4WX6Muz4N",
        "outputId": "1970ea6e-c8a5-44de-df98-a0cd12f954cc"
      },
      "execution_count": 4,
      "outputs": [
        {
          "output_type": "stream",
          "name": "stdout",
          "text": [
            "CAT_00\tCAT_06\t\t\t generated_img_000_5.png\n",
            "CAT_01\tgenerated_img_000_0.png  generated_img_000_6.png\n",
            "CAT_02\tgenerated_img_000_1.png  generated_img_000_7.png\n",
            "CAT_03\tgenerated_img_000_2.png  generated_img_000_8.png\n",
            "CAT_04\tgenerated_img_000_3.png  generated_img_000_9.png\n",
            "CAT_05\tgenerated_img_000_4.png\n"
          ]
        }
      ]
    },
    {
      "cell_type": "code",
      "source": [
        "dataset_path = '../cats'"
      ],
      "metadata": {
        "id": "Bsg8-qtgvFgI"
      },
      "execution_count": 5,
      "outputs": []
    },
    {
      "cell_type": "code",
      "source": [
        "dataset = keras.utils.image_dataset_from_directory(\n",
        "    dataset_path, label_mode=None, image_size=(64, 64), batch_size=32\n",
        ")\n",
        "dataset = dataset.map(lambda x: x / 255.0)#9997 files"
      ],
      "metadata": {
        "colab": {
          "base_uri": "https://localhost:8080/"
        },
        "id": "aYSLezyNvFdh",
        "outputId": "de13a370-3f9d-4aec-b1ec-60b26bc82dfb"
      },
      "execution_count": 6,
      "outputs": [
        {
          "output_type": "stream",
          "name": "stdout",
          "text": [
            "Found 10007 files belonging to 1 classes.\n"
          ]
        }
      ]
    },
    {
      "cell_type": "code",
      "source": [
        "#Display a sample image\n",
        "for x in dataset:\n",
        "    plt.axis(\"off\")\n",
        "    plt.imshow((x.numpy() * 255).astype(\"int32\")[0])\n",
        "    break"
      ],
      "metadata": {
        "colab": {
          "base_uri": "https://localhost:8080/",
          "height": 406
        },
        "id": "TT-J5I9cvFbK",
        "outputId": "b077b68b-3692-41d1-dcc7-b144315b68a7"
      },
      "execution_count": 7,
      "outputs": [
        {
          "output_type": "display_data",
          "data": {
            "text/plain": [
              "<Figure size 640x480 with 1 Axes>"
            ],
            "image/png": "[encoded data removed]"
          },
          "metadata": {}
        }
      ]
    },
    {
      "cell_type": "code",
      "source": [
        "#Discriminator model\n",
        "discriminator = keras.Sequential(\n",
        "    [\n",
        "        keras.Input(shape=(64, 64, 3)),\n",
        "        layers.Conv2D(64, kernel_size=4, strides=2, padding=\"same\"),\n",
        "        layers.LeakyReLU(alpha=0.2),\n",
        "        layers.Conv2D(128, kernel_size=4, strides=2, padding=\"same\"),\n",
        "        layers.LeakyReLU(alpha=0.2),\n",
        "        layers.Conv2D(128, kernel_size=4, strides=2, padding=\"same\"),\n",
        "        layers.LeakyReLU(alpha=0.2),\n",
        "        layers.Flatten(),\n",
        "        layers.Dropout(0.2),\n",
        "        layers.Dense(1, activation=\"sigmoid\"),\n",
        "    ],\n",
        "    name=\"discriminator\",\n",
        ")\n",
        "discriminator.summary()"
      ],
      "metadata": {
        "colab": {
          "base_uri": "https://localhost:8080/"
        },
        "id": "LAqihpXrvFYR",
        "outputId": "d71a844b-986b-4368-b58c-19bb4b7e6c2b"
      },
      "execution_count": 8,
      "outputs": [
        {
          "output_type": "stream",
          "name": "stdout",
          "text": [
            "Model: \"discriminator\"\n",
            "_________________________________________________________________\n",
            " Layer (type)                Output Shape              Param #   \n",
            "=================================================================\n",
            " conv2d (Conv2D)             (None, 32, 32, 64)        3136      \n",
            "                                                                 \n",
            " leaky_re_lu (LeakyReLU)     (None, 32, 32, 64)        0         \n",
            "                                                                 \n",
            " conv2d_1 (Conv2D)           (None, 16, 16, 128)       131200    \n",
            "                                                                 \n",
            " leaky_re_lu_1 (LeakyReLU)   (None, 16, 16, 128)       0         \n",
            "                                                                 \n",
            " conv2d_2 (Conv2D)           (None, 8, 8, 128)         262272    \n",
            "                                                                 \n",
            " leaky_re_lu_2 (LeakyReLU)   (None, 8, 8, 128)         0         \n",
            "                                                                 \n",
            " flatten (Flatten)           (None, 8192)              0         \n",
            "                                                                 \n",
            " dropout (Dropout)           (None, 8192)              0         \n",
            "                                                                 \n",
            " dense (Dense)               (None, 1)                 8193      \n",
            "                                                                 \n",
            "=================================================================\n",
            "Total params: 404,801\n",
            "Trainable params: 404,801\n",
            "Non-trainable params: 0\n",
            "_________________________________________________________________\n"
          ]
        }
      ]
    },
    {
      "cell_type": "code",
      "source": [
        "#Generator model\n",
        "latent_dim = 128\n",
        "\n",
        "generator = keras.Sequential(\n",
        "    [\n",
        "        keras.Input(shape=(latent_dim,)),\n",
        "        layers.Dense(8 * 8 * 128),\n",
        "        layers.Reshape((8, 8, 128)),\n",
        "        layers.Conv2DTranspose(128, kernel_size=4, strides=2, padding=\"same\"),\n",
        "        layers.LeakyReLU(alpha=0.2),\n",
        "        layers.Conv2DTranspose(256, kernel_size=4, strides=2, padding=\"same\"),\n",
        "        layers.LeakyReLU(alpha=0.2),\n",
        "        layers.Conv2DTranspose(512, kernel_size=4, strides=2, padding=\"same\"),\n",
        "        layers.LeakyReLU(alpha=0.2),\n",
        "        layers.Conv2D(3, kernel_size=5, padding=\"same\", activation=\"sigmoid\"),\n",
        "    ],\n",
        "    name=\"generator\",\n",
        ")\n",
        "generator.summary()"
      ],
      "metadata": {
        "colab": {
          "base_uri": "https://localhost:8080/"
        },
        "id": "He1ZkrxUwB9j",
        "outputId": "4bff0ef9-893c-4686-b362-81739d005b16"
      },
      "execution_count": 9,
      "outputs": [
        {
          "output_type": "stream",
          "name": "stdout",
          "text": [
            "Model: \"generator\"\n",
            "_________________________________________________________________\n",
            " Layer (type)                Output Shape              Param #   \n",
            "=================================================================\n",
            " dense_1 (Dense)             (None, 8192)              1056768   \n",
            "                                                                 \n",
            " reshape (Reshape)           (None, 8, 8, 128)         0         \n",
            "                                                                 \n",
            " conv2d_transpose (Conv2DTra  (None, 16, 16, 128)      262272    \n",
            " nspose)                                                         \n",
            "                                                                 \n",
            " leaky_re_lu_3 (LeakyReLU)   (None, 16, 16, 128)       0         \n",
            "                                                                 \n",
            " conv2d_transpose_1 (Conv2DT  (None, 32, 32, 256)      524544    \n",
            " ranspose)                                                       \n",
            "                                                                 \n",
            " leaky_re_lu_4 (LeakyReLU)   (None, 32, 32, 256)       0         \n",
            "                                                                 \n",
            " conv2d_transpose_2 (Conv2DT  (None, 64, 64, 512)      2097664   \n",
            " ranspose)                                                       \n",
            "                                                                 \n",
            " leaky_re_lu_5 (LeakyReLU)   (None, 64, 64, 512)       0         \n",
            "                                                                 \n",
            " conv2d_3 (Conv2D)           (None, 64, 64, 3)         38403     \n",
            "                                                                 \n",
            "=================================================================\n",
            "Total params: 3,979,651\n",
            "Trainable params: 3,979,651\n",
            "Non-trainable params: 0\n",
            "_________________________________________________________________\n"
          ]
        }
      ]
    },
    {
      "cell_type": "code",
      "source": [
        "#train step\n",
        "class GAN(keras.Model):\n",
        "    def __init__(self, discriminator, generator, latent_dim):\n",
        "        super().__init__()\n",
        "        self.discriminator = discriminator\n",
        "        self.generator = generator\n",
        "        self.latent_dim = latent_dim\n",
        "\n",
        "    def compile(self, d_optimizer, g_optimizer, loss_fn):\n",
        "        super().compile()\n",
        "        self.d_optimizer = d_optimizer\n",
        "        self.g_optimizer = g_optimizer\n",
        "        self.loss_fn = loss_fn\n",
        "        self.d_loss_metric = keras.metrics.Mean(name=\"d_loss\")\n",
        "        self.g_loss_metric = keras.metrics.Mean(name=\"g_loss\")\n",
        "\n",
        "    @property\n",
        "    def metrics(self):\n",
        "        return [self.d_loss_metric, self.g_loss_metric]\n",
        "\n",
        "    def train_step(self, real_images):\n",
        "        # Sample random points in the latent space\n",
        "        batch_size = tf.shape(real_images)[0]\n",
        "        random_latent_vectors = tf.random.normal(shape=(batch_size, self.latent_dim))\n",
        "\n",
        "        # Decode them to fake images\n",
        "        generated_images = self.generator(random_latent_vectors)\n",
        "\n",
        "        # Combine them with real images\n",
        "        combined_images = tf.concat([generated_images, real_images], axis=0)\n",
        "\n",
        "        # Assemble labels discriminating real from fake images\n",
        "        labels = tf.concat(\n",
        "            [tf.ones((batch_size, 1)), tf.zeros((batch_size, 1))], axis=0\n",
        "        )\n",
        "        # Add random noise to the labels - important trick!\n",
        "        labels += 0.05 * tf.random.uniform(tf.shape(labels))\n",
        "\n",
        "        # Train the discriminator\n",
        "        with tf.GradientTape() as tape:\n",
        "            predictions = self.discriminator(combined_images)\n",
        "            d_loss = self.loss_fn(labels, predictions)\n",
        "        grads = tape.gradient(d_loss, self.discriminator.trainable_weights)\n",
        "        self.d_optimizer.apply_gradients(\n",
        "            zip(grads, self.discriminator.trainable_weights)\n",
        "        )\n",
        "\n",
        "        # Sample random points in the latent space\n",
        "        random_latent_vectors = tf.random.normal(shape=(batch_size, self.latent_dim))\n",
        "\n",
        "        # Assemble labels that say \"all real images\"\n",
        "        misleading_labels = tf.zeros((batch_size, 1))\n",
        "\n",
        "        # Train the generator (note that we should *not* update the weights\n",
        "        # of the discriminator)!\n",
        "        with tf.GradientTape() as tape:\n",
        "            predictions = self.discriminator(self.generator(random_latent_vectors))\n",
        "            g_loss = self.loss_fn(misleading_labels, predictions)\n",
        "        grads = tape.gradient(g_loss, self.generator.trainable_weights)\n",
        "        self.g_optimizer.apply_gradients(zip(grads, self.generator.trainable_weights))\n",
        "\n",
        "        # Update metrics\n",
        "        self.d_loss_metric.update_state(d_loss)\n",
        "        self.g_loss_metric.update_state(g_loss)\n",
        "        return {\n",
        "            \"d_loss\": self.d_loss_metric.result(),\n",
        "            \"g_loss\": self.g_loss_metric.result(),\n",
        "        }"
      ],
      "metadata": {
        "id": "VsJpoH1DwIhT"
      },
      "execution_count": 10,
      "outputs": []
    },
    {
      "cell_type": "code",
      "source": [
        "#Create a callback that periodically saves generated images\n",
        "class GANMonitor(keras.callbacks.Callback):\n",
        "    def __init__(self, num_img=3, latent_dim=128):\n",
        "        self.num_img = num_img\n",
        "        self.latent_dim = latent_dim\n",
        "\n",
        "    def on_epoch_end(self, epoch, logs=None):\n",
        "        random_latent_vectors = tf.random.normal(shape=(self.num_img, self.latent_dim))\n",
        "        generated_images = self.model.generator(random_latent_vectors)\n",
        "        generated_images *= 255\n",
        "        generated_images.numpy()\n",
        "        for i in range(self.num_img):\n",
        "            img = keras.preprocessing.image.array_to_img(generated_images[i])\n",
        "            img.save(\"generated_img_%03d_%d.png\" % (epoch, i))"
      ],
      "metadata": {
        "id": "nabn-cJcwIe7"
      },
      "execution_count": 11,
      "outputs": []
    },
    {
      "cell_type": "code",
      "source": [
        "#train the model\n",
        "epochs = 100  # In practice, use ~100 epochs\n",
        "\n",
        "gan = GAN(discriminator=discriminator, generator=generator, latent_dim=latent_dim)\n",
        "gan.compile(\n",
        "    d_optimizer=keras.optimizers.Adam(learning_rate=0.0001),\n",
        "    g_optimizer=keras.optimizers.Adam(learning_rate=0.0001),\n",
        "    loss_fn=keras.losses.BinaryCrossentropy(),\n",
        ")\n",
        "\n",
        "gan.fit(\n",
        "    dataset, epochs=epochs, callbacks=[GANMonitor(num_img=10, latent_dim=latent_dim)]\n",
        ")"
      ],
      "metadata": {
        "colab": {
          "base_uri": "https://localhost:8080/"
        },
        "id": "YLjdrvmnwIcK",
        "outputId": "22f5e989-3561-452b-e76d-7224381f6d36"
      },
      "execution_count": 23,
      "outputs": [
        {
          "output_type": "stream",
          "name": "stdout",
          "text": [
            "Epoch 1/100\n",
            "313/313 [==============================] - 16s 37ms/step - d_loss: 0.6566 - g_loss: 1.1930\n",
            "Epoch 2/100\n",
            "313/313 [==============================] - 13s 39ms/step - d_loss: 0.6989 - g_loss: 1.3677\n",
            "Epoch 3/100\n",
            "313/313 [==============================] - 13s 39ms/step - d_loss: 0.7052 - g_loss: 1.2057\n",
            "Epoch 4/100\n",
            "313/313 [==============================] - 12s 38ms/step - d_loss: 0.6295 - g_loss: 1.1567\n",
            "Epoch 5/100\n",
            "313/313 [==============================] - 13s 39ms/step - d_loss: 0.5784 - g_loss: 1.4222\n",
            "Epoch 6/100\n",
            "313/313 [==============================] - 13s 40ms/step - d_loss: 0.7055 - g_loss: 1.4694\n",
            "Epoch 7/100\n",
            "313/313 [==============================] - 13s 39ms/step - d_loss: 0.6370 - g_loss: 1.1630\n",
            "Epoch 8/100\n",
            "313/313 [==============================] - 13s 40ms/step - d_loss: 0.7662 - g_loss: 1.5833\n",
            "Epoch 9/100\n",
            "313/313 [==============================] - 13s 39ms/step - d_loss: 0.6176 - g_loss: 1.0486\n",
            "Epoch 10/100\n",
            "313/313 [==============================] - 13s 39ms/step - d_loss: 0.6616 - g_loss: 1.0239\n",
            "Epoch 11/100\n",
            "313/313 [==============================] - 12s 39ms/step - d_loss: 0.6744 - g_loss: 1.1439\n",
            "Epoch 12/100\n",
            "313/313 [==============================] - 12s 39ms/step - d_loss: 0.6234 - g_loss: 1.0706\n",
            "Epoch 13/100\n",
            "313/313 [==============================] - 13s 41ms/step - d_loss: 0.6365 - g_loss: 1.3643\n",
            "Epoch 14/100\n",
            "313/313 [==============================] - 12s 38ms/step - d_loss: 0.5865 - g_loss: 1.4331\n",
            "Epoch 15/100\n",
            "313/313 [==============================] - 12s 38ms/step - d_loss: 0.7376 - g_loss: 1.6321\n",
            "Epoch 16/100\n",
            "313/313 [==============================] - 12s 38ms/step - d_loss: 0.6272 - g_loss: 0.9471\n",
            "Epoch 17/100\n",
            "313/313 [==============================] - 13s 39ms/step - d_loss: 0.6594 - g_loss: 0.9897\n",
            "Epoch 18/100\n",
            "313/313 [==============================] - 13s 39ms/step - d_loss: 0.6176 - g_loss: 1.1930\n",
            "Epoch 19/100\n",
            "313/313 [==============================] - 13s 39ms/step - d_loss: 0.6282 - g_loss: 0.9661\n",
            "Epoch 20/100\n",
            "313/313 [==============================] - 12s 38ms/step - d_loss: 0.6444 - g_loss: 1.0867\n",
            "Epoch 21/100\n",
            "313/313 [==============================] - 12s 38ms/step - d_loss: 0.6097 - g_loss: 1.2526\n",
            "Epoch 22/100\n",
            "313/313 [==============================] - 13s 39ms/step - d_loss: 0.7196 - g_loss: 1.3002\n",
            "Epoch 23/100\n",
            "313/313 [==============================] - 12s 39ms/step - d_loss: 0.6620 - g_loss: 0.9514\n",
            "Epoch 24/100\n",
            "313/313 [==============================] - 12s 38ms/step - d_loss: 0.6823 - g_loss: 1.0078\n",
            "Epoch 25/100\n",
            "313/313 [==============================] - 12s 39ms/step - d_loss: 0.6401 - g_loss: 0.9603\n",
            "Epoch 26/100\n",
            "313/313 [==============================] - 12s 39ms/step - d_loss: 0.6853 - g_loss: 1.2252\n",
            "Epoch 27/100\n",
            "313/313 [==============================] - 13s 39ms/step - d_loss: 0.6294 - g_loss: 1.1115\n",
            "Epoch 28/100\n",
            "313/313 [==============================] - 13s 39ms/step - d_loss: 0.6422 - g_loss: 1.4661\n",
            "Epoch 29/100\n",
            "313/313 [==============================] - 12s 39ms/step - d_loss: 0.6530 - g_loss: 1.7381\n",
            "Epoch 30/100\n",
            "313/313 [==============================] - 13s 39ms/step - d_loss: 0.7359 - g_loss: 1.2674\n",
            "Epoch 31/100\n",
            "313/313 [==============================] - 13s 39ms/step - d_loss: 0.6109 - g_loss: 1.1100\n",
            "Epoch 32/100\n",
            "313/313 [==============================] - 12s 39ms/step - d_loss: 0.6529 - g_loss: 1.0112\n",
            "Epoch 33/100\n",
            "313/313 [==============================] - 12s 39ms/step - d_loss: 0.6657 - g_loss: 1.0549\n",
            "Epoch 34/100\n",
            "313/313 [==============================] - 13s 39ms/step - d_loss: 0.6606 - g_loss: 1.0104\n",
            "Epoch 35/100\n",
            "313/313 [==============================] - 13s 39ms/step - d_loss: 0.6698 - g_loss: 1.1735\n",
            "Epoch 36/100\n",
            "313/313 [==============================] - 12s 39ms/step - d_loss: 0.6670 - g_loss: 0.9627\n",
            "Epoch 37/100\n",
            "313/313 [==============================] - 12s 38ms/step - d_loss: 0.6283 - g_loss: 1.0203\n",
            "Epoch 38/100\n",
            "313/313 [==============================] - 12s 38ms/step - d_loss: 0.7230 - g_loss: 1.2622\n",
            "Epoch 39/100\n",
            "313/313 [==============================] - 13s 39ms/step - d_loss: 0.6411 - g_loss: 1.0294\n",
            "Epoch 40/100\n",
            "313/313 [==============================] - 12s 39ms/step - d_loss: 0.6814 - g_loss: 1.1847\n",
            "Epoch 41/100\n",
            "313/313 [==============================] - 12s 39ms/step - d_loss: 0.6719 - g_loss: 1.3030\n",
            "Epoch 42/100\n",
            "313/313 [==============================] - 12s 39ms/step - d_loss: 0.6458 - g_loss: 1.2385\n",
            "Epoch 43/100\n",
            "313/313 [==============================] - 12s 38ms/step - d_loss: 0.5587 - g_loss: 1.2529\n",
            "Epoch 44/100\n",
            "313/313 [==============================] - 12s 39ms/step - d_loss: 0.6426 - g_loss: 1.0253\n",
            "Epoch 45/100\n",
            "313/313 [==============================] - 12s 39ms/step - d_loss: 0.6498 - g_loss: 1.1079\n",
            "Epoch 46/100\n",
            "313/313 [==============================] - 12s 38ms/step - d_loss: 0.6257 - g_loss: 1.1566\n",
            "Epoch 47/100\n",
            "313/313 [==============================] - 12s 39ms/step - d_loss: 0.6551 - g_loss: 1.1544\n",
            "Epoch 48/100\n",
            "313/313 [==============================] - 13s 39ms/step - d_loss: 0.6163 - g_loss: 1.4214\n",
            "Epoch 49/100\n",
            "313/313 [==============================] - 12s 38ms/step - d_loss: 0.7217 - g_loss: 1.7765\n",
            "Epoch 50/100\n",
            "313/313 [==============================] - 13s 39ms/step - d_loss: 0.6478 - g_loss: 0.9953\n",
            "Epoch 51/100\n",
            "313/313 [==============================] - 12s 38ms/step - d_loss: 0.6317 - g_loss: 1.1593\n",
            "Epoch 52/100\n",
            "313/313 [==============================] - 12s 39ms/step - d_loss: 0.6483 - g_loss: 1.1123\n",
            "Epoch 53/100\n",
            "313/313 [==============================] - 12s 39ms/step - d_loss: 0.6334 - g_loss: 0.9818\n",
            "Epoch 54/100\n",
            "313/313 [==============================] - 12s 38ms/step - d_loss: 0.6408 - g_loss: 1.1144\n",
            "Epoch 55/100\n",
            "313/313 [==============================] - 12s 38ms/step - d_loss: 0.7165 - g_loss: 1.3230\n",
            "Epoch 56/100\n",
            "313/313 [==============================] - 13s 39ms/step - d_loss: 0.6798 - g_loss: 1.2250\n",
            "Epoch 57/100\n",
            "313/313 [==============================] - 12s 38ms/step - d_loss: 0.6651 - g_loss: 0.9821\n",
            "Epoch 58/100\n",
            "313/313 [==============================] - 12s 39ms/step - d_loss: 0.6566 - g_loss: 0.9667\n",
            "Epoch 59/100\n",
            "313/313 [==============================] - 13s 39ms/step - d_loss: 0.6692 - g_loss: 0.9721\n",
            "Epoch 60/100\n",
            "313/313 [==============================] - 12s 39ms/step - d_loss: 0.6456 - g_loss: 0.9629\n",
            "Epoch 61/100\n",
            "313/313 [==============================] - 13s 39ms/step - d_loss: 0.6747 - g_loss: 1.0886\n",
            "Epoch 62/100\n",
            "313/313 [==============================] - 12s 39ms/step - d_loss: 0.6557 - g_loss: 1.5184\n",
            "Epoch 63/100\n",
            "313/313 [==============================] - 12s 38ms/step - d_loss: 0.7049 - g_loss: 1.0921\n",
            "Epoch 64/100\n",
            "313/313 [==============================] - 12s 39ms/step - d_loss: 0.6233 - g_loss: 1.1592\n",
            "Epoch 65/100\n",
            "313/313 [==============================] - 13s 39ms/step - d_loss: 0.5981 - g_loss: 1.1991\n",
            "Epoch 66/100\n",
            "313/313 [==============================] - 13s 39ms/step - d_loss: 0.6559 - g_loss: 0.9931\n",
            "Epoch 67/100\n",
            "313/313 [==============================] - 13s 39ms/step - d_loss: 0.6328 - g_loss: 1.1373\n",
            "Epoch 68/100\n",
            "313/313 [==============================] - 13s 39ms/step - d_loss: 0.6052 - g_loss: 1.1107\n",
            "Epoch 69/100\n",
            "313/313 [==============================] - 13s 39ms/step - d_loss: 0.6914 - g_loss: 1.3875\n",
            "Epoch 70/100\n",
            "313/313 [==============================] - 12s 39ms/step - d_loss: 0.6694 - g_loss: 1.0108\n",
            "Epoch 71/100\n",
            "313/313 [==============================] - 12s 39ms/step - d_loss: 0.7625 - g_loss: 1.3418\n",
            "Epoch 72/100\n",
            "313/313 [==============================] - 12s 39ms/step - d_loss: 0.6595 - g_loss: 1.0784\n",
            "Epoch 73/100\n",
            "313/313 [==============================] - 12s 39ms/step - d_loss: 0.6722 - g_loss: 1.0612\n",
            "Epoch 74/100\n",
            "313/313 [==============================] - 12s 38ms/step - d_loss: 0.6813 - g_loss: 0.9729\n",
            "Epoch 75/100\n",
            "313/313 [==============================] - 12s 38ms/step - d_loss: 0.6289 - g_loss: 1.2181\n",
            "Epoch 76/100\n",
            "313/313 [==============================] - 12s 38ms/step - d_loss: 0.6560 - g_loss: 0.9826\n",
            "Epoch 77/100\n",
            "313/313 [==============================] - 12s 39ms/step - d_loss: 0.6530 - g_loss: 0.9367\n",
            "Epoch 78/100\n",
            "313/313 [==============================] - 12s 38ms/step - d_loss: 0.5971 - g_loss: 1.2492\n",
            "Epoch 79/100\n",
            "313/313 [==============================] - 13s 39ms/step - d_loss: 0.6340 - g_loss: 1.3097\n",
            "Epoch 80/100\n",
            "313/313 [==============================] - 13s 39ms/step - d_loss: 0.7015 - g_loss: 1.2778\n",
            "Epoch 81/100\n",
            "313/313 [==============================] - 13s 39ms/step - d_loss: 0.6648 - g_loss: 0.9761\n",
            "Epoch 82/100\n",
            "313/313 [==============================] - 13s 39ms/step - d_loss: 0.6174 - g_loss: 1.0754\n",
            "Epoch 83/100\n",
            "313/313 [==============================] - 13s 39ms/step - d_loss: 0.6996 - g_loss: 0.9268\n",
            "Epoch 84/100\n",
            "313/313 [==============================] - 12s 39ms/step - d_loss: 0.6659 - g_loss: 1.1456\n",
            "Epoch 85/100\n",
            "313/313 [==============================] - 12s 39ms/step - d_loss: 0.6506 - g_loss: 1.4306\n",
            "Epoch 86/100\n",
            "313/313 [==============================] - 13s 39ms/step - d_loss: 0.6354 - g_loss: 1.0953\n",
            "Epoch 87/100\n",
            "313/313 [==============================] - 13s 39ms/step - d_loss: 0.6264 - g_loss: 1.1539\n",
            "Epoch 88/100\n",
            "313/313 [==============================] - 12s 39ms/step - d_loss: 0.6165 - g_loss: 1.0934\n",
            "Epoch 89/100\n",
            "313/313 [==============================] - 13s 39ms/step - d_loss: 0.6564 - g_loss: 1.0423\n",
            "Epoch 90/100\n",
            "313/313 [==============================] - 13s 39ms/step - d_loss: 0.6878 - g_loss: 1.0164\n",
            "Epoch 91/100\n",
            "313/313 [==============================] - 13s 39ms/step - d_loss: 0.7013 - g_loss: 1.1725\n",
            "Epoch 92/100\n",
            "313/313 [==============================] - 12s 39ms/step - d_loss: 0.6889 - g_loss: 1.0210\n",
            "Epoch 93/100\n",
            "313/313 [==============================] - 12s 39ms/step - d_loss: 0.6410 - g_loss: 0.9717\n",
            "Epoch 94/100\n",
            "313/313 [==============================] - 13s 39ms/step - d_loss: 0.6854 - g_loss: 1.1677\n",
            "Epoch 95/100\n",
            "313/313 [==============================] - 12s 39ms/step - d_loss: 0.6622 - g_loss: 1.1327\n",
            "Epoch 96/100\n",
            "313/313 [==============================] - 12s 38ms/step - d_loss: 0.6467 - g_loss: 1.3388\n",
            "Epoch 97/100\n",
            "313/313 [==============================] - 12s 38ms/step - d_loss: 0.7019 - g_loss: 1.2907\n",
            "Epoch 98/100\n",
            "313/313 [==============================] - 12s 38ms/step - d_loss: 0.6368 - g_loss: 1.0995\n",
            "Epoch 99/100\n",
            "313/313 [==============================] - 13s 39ms/step - d_loss: 0.6544 - g_loss: 1.0466\n",
            "Epoch 100/100\n",
            "313/313 [==============================] - 12s 39ms/step - d_loss: 0.6098 - g_loss: 1.2886\n"
          ]
        },
        {
          "output_type": "execute_result",
          "data": {
            "text/plain": [
              "<keras.callbacks.History at 0x7ff5b812f850>"
            ]
          },
          "metadata": {},
          "execution_count": 23
        }
      ]
    },
    {
      "cell_type": "code",
      "source": [
        "import os\n",
        "\n",
        "# List all files in the current directory\n",
        "files = os.listdir('../cats')\n",
        "\n",
        "# Filter for image files with the \"png\" extension\n",
        "image_files = [f for f in files if f.endswith(\".png\")]\n",
        "\n",
        "# Print the filenames\n",
        "print(image_files)\n"
      ],
      "metadata": {
        "colab": {
          "base_uri": "https://localhost:8080/"
        },
        "id": "wK13jTT9VhaG",
        "outputId": "adb4c249-d7e8-47f2-a485-89ebe7210dda"
      },
      "execution_count": 24,
      "outputs": [
        {
          "output_type": "stream",
          "name": "stdout",
          "text": [
            "['generated_img_000_0.png', 'generated_img_000_1.png', 'generated_img_000_2.png', 'generated_img_000_3.png', 'generated_img_000_4.png', 'generated_img_000_5.png', 'generated_img_000_6.png', 'generated_img_000_7.png', 'generated_img_000_8.png', 'generated_img_000_9.png', 'generated_img_001_0.png', 'generated_img_001_1.png', 'generated_img_001_2.png', 'generated_img_001_3.png', 'generated_img_001_4.png', 'generated_img_001_5.png', 'generated_img_001_6.png', 'generated_img_001_7.png', 'generated_img_001_8.png', 'generated_img_001_9.png', 'generated_img_002_0.png', 'generated_img_002_1.png', 'generated_img_002_2.png', 'generated_img_002_3.png', 'generated_img_002_4.png', 'generated_img_002_5.png', 'generated_img_002_6.png', 'generated_img_002_7.png', 'generated_img_002_8.png', 'generated_img_002_9.png', 'generated_img_003_0.png', 'generated_img_003_1.png', 'generated_img_003_2.png', 'generated_img_003_3.png', 'generated_img_003_4.png', 'generated_img_003_5.png', 'generated_img_003_6.png', 'generated_img_003_7.png', 'generated_img_003_8.png', 'generated_img_003_9.png', 'generated_img_004_0.png', 'generated_img_004_1.png', 'generated_img_004_2.png', 'generated_img_004_3.png', 'generated_img_004_4.png', 'generated_img_004_5.png', 'generated_img_004_6.png', 'generated_img_004_7.png', 'generated_img_004_8.png', 'generated_img_004_9.png', 'generated_img_005_0.png', 'generated_img_005_1.png', 'generated_img_005_2.png', 'generated_img_005_3.png', 'generated_img_005_4.png', 'generated_img_005_5.png', 'generated_img_005_6.png', 'generated_img_005_7.png', 'generated_img_005_8.png', 'generated_img_005_9.png', 'generated_img_006_0.png', 'generated_img_006_1.png', 'generated_img_006_2.png', 'generated_img_006_3.png', 'generated_img_006_4.png', 'generated_img_006_5.png', 'generated_img_006_6.png', 'generated_img_006_7.png', 'generated_img_006_8.png', 'generated_img_006_9.png', 'generated_img_007_0.png', 'generated_img_007_1.png', 'generated_img_007_2.png', 'generated_img_007_3.png', 'generated_img_007_4.png', 'generated_img_007_5.png', 'generated_img_007_6.png', 'generated_img_007_7.png', 'generated_img_007_8.png', 'generated_img_007_9.png', 'generated_img_008_0.png', 'generated_img_008_1.png', 'generated_img_008_2.png', 'generated_img_008_3.png', 'generated_img_008_4.png', 'generated_img_008_5.png', 'generated_img_008_6.png', 'generated_img_008_7.png', 'generated_img_008_8.png', 'generated_img_008_9.png', 'generated_img_009_0.png', 'generated_img_009_1.png', 'generated_img_009_2.png', 'generated_img_009_3.png', 'generated_img_009_4.png', 'generated_img_009_5.png', 'generated_img_009_6.png', 'generated_img_009_7.png', 'generated_img_009_8.png', 'generated_img_009_9.png', 'generated_img_010_0.png', 'generated_img_010_1.png', 'generated_img_010_2.png', 'generated_img_010_3.png', 'generated_img_010_4.png', 'generated_img_010_5.png', 'generated_img_010_6.png', 'generated_img_010_7.png', 'generated_img_010_8.png', 'generated_img_010_9.png', 'generated_img_011_0.png', 'generated_img_011_1.png', 'generated_img_011_2.png', 'generated_img_011_3.png', 'generated_img_011_4.png', 'generated_img_011_5.png', 'generated_img_011_6.png', 'generated_img_011_7.png', 'generated_img_011_8.png', 'generated_img_011_9.png', 'generated_img_012_0.png', 'generated_img_012_1.png', 'generated_img_012_2.png', 'generated_img_012_3.png', 'generated_img_012_4.png', 'generated_img_012_5.png', 'generated_img_012_6.png', 'generated_img_012_7.png', 'generated_img_012_8.png', 'generated_img_012_9.png', 'generated_img_013_0.png', 'generated_img_013_1.png', 'generated_img_013_2.png', 'generated_img_013_3.png', 'generated_img_013_4.png', 'generated_img_013_5.png', 'generated_img_013_6.png', 'generated_img_013_7.png', 'generated_img_013_8.png', 'generated_img_013_9.png', 'generated_img_014_0.png', 'generated_img_014_1.png', 'generated_img_014_2.png', 'generated_img_014_3.png', 'generated_img_014_4.png', 'generated_img_014_5.png', 'generated_img_014_6.png', 'generated_img_014_7.png', 'generated_img_014_8.png', 'generated_img_014_9.png', 'generated_img_015_0.png', 'generated_img_015_1.png', 'generated_img_015_2.png', 'generated_img_015_3.png', 'generated_img_015_4.png', 'generated_img_015_5.png', 'generated_img_015_6.png', 'generated_img_015_7.png', 'generated_img_015_8.png', 'generated_img_015_9.png', 'generated_img_016_0.png', 'generated_img_016_1.png', 'generated_img_016_2.png', 'generated_img_016_3.png', 'generated_img_016_4.png', 'generated_img_016_5.png', 'generated_img_016_6.png', 'generated_img_016_7.png', 'generated_img_016_8.png', 'generated_img_016_9.png', 'generated_img_017_0.png', 'generated_img_017_1.png', 'generated_img_017_2.png', 'generated_img_017_3.png', 'generated_img_017_4.png', 'generated_img_017_5.png', 'generated_img_017_6.png', 'generated_img_017_7.png', 'generated_img_017_8.png', 'generated_img_017_9.png', 'generated_img_018_0.png', 'generated_img_018_1.png', 'generated_img_018_2.png', 'generated_img_018_3.png', 'generated_img_018_4.png', 'generated_img_018_5.png', 'generated_img_018_6.png', 'generated_img_018_7.png', 'generated_img_018_8.png', 'generated_img_018_9.png', 'generated_img_019_0.png', 'generated_img_019_1.png', 'generated_img_019_2.png', 'generated_img_019_3.png', 'generated_img_019_4.png', 'generated_img_019_5.png', 'generated_img_019_6.png', 'generated_img_019_7.png', 'generated_img_019_8.png', 'generated_img_019_9.png', 'generated_img_020_0.png', 'generated_img_020_1.png', 'generated_img_020_2.png', 'generated_img_020_3.png', 'generated_img_020_4.png', 'generated_img_020_5.png', 'generated_img_020_6.png', 'generated_img_020_7.png', 'generated_img_020_8.png', 'generated_img_020_9.png', 'generated_img_021_0.png', 'generated_img_021_1.png', 'generated_img_021_2.png', 'generated_img_021_3.png', 'generated_img_021_4.png', 'generated_img_021_5.png', 'generated_img_021_6.png', 'generated_img_021_7.png', 'generated_img_021_8.png', 'generated_img_021_9.png', 'generated_img_022_0.png', 'generated_img_022_1.png', 'generated_img_022_2.png', 'generated_img_022_3.png', 'generated_img_022_4.png', 'generated_img_022_5.png', 'generated_img_022_6.png', 'generated_img_022_7.png', 'generated_img_022_8.png', 'generated_img_022_9.png', 'generated_img_023_0.png', 'generated_img_023_1.png', 'generated_img_023_2.png', 'generated_img_023_3.png', 'generated_img_023_4.png', 'generated_img_023_5.png', 'generated_img_023_6.png', 'generated_img_023_7.png', 'generated_img_023_8.png', 'generated_img_023_9.png', 'generated_img_024_0.png', 'generated_img_024_1.png', 'generated_img_024_2.png', 'generated_img_024_3.png', 'generated_img_024_4.png', 'generated_img_024_5.png', 'generated_img_024_6.png', 'generated_img_024_7.png', 'generated_img_024_8.png', 'generated_img_024_9.png', 'generated_img_025_0.png', 'generated_img_025_1.png', 'generated_img_025_2.png', 'generated_img_025_3.png', 'generated_img_025_4.png', 'generated_img_025_5.png', 'generated_img_025_6.png', 'generated_img_025_7.png', 'generated_img_025_8.png', 'generated_img_025_9.png', 'generated_img_026_0.png', 'generated_img_026_1.png', 'generated_img_026_2.png', 'generated_img_026_3.png', 'generated_img_026_4.png', 'generated_img_026_5.png', 'generated_img_026_6.png', 'generated_img_026_7.png', 'generated_img_026_8.png', 'generated_img_026_9.png', 'generated_img_027_0.png', 'generated_img_027_1.png', 'generated_img_027_2.png', 'generated_img_027_3.png', 'generated_img_027_4.png', 'generated_img_027_5.png', 'generated_img_027_6.png', 'generated_img_027_7.png', 'generated_img_027_8.png', 'generated_img_027_9.png', 'generated_img_028_0.png', 'generated_img_028_1.png', 'generated_img_028_2.png', 'generated_img_028_3.png', 'generated_img_028_4.png', 'generated_img_028_5.png', 'generated_img_028_6.png', 'generated_img_028_7.png', 'generated_img_028_8.png', 'generated_img_028_9.png', 'generated_img_029_0.png', 'generated_img_029_1.png', 'generated_img_029_2.png', 'generated_img_029_3.png', 'generated_img_029_4.png', 'generated_img_029_5.png', 'generated_img_029_6.png', 'generated_img_029_7.png', 'generated_img_029_8.png', 'generated_img_029_9.png', 'generated_img_030_0.png', 'generated_img_030_1.png', 'generated_img_030_2.png', 'generated_img_030_3.png', 'generated_img_030_4.png', 'generated_img_030_5.png', 'generated_img_030_6.png', 'generated_img_030_7.png', 'generated_img_030_8.png', 'generated_img_030_9.png', 'generated_img_031_0.png', 'generated_img_031_1.png', 'generated_img_031_2.png', 'generated_img_031_3.png', 'generated_img_031_4.png', 'generated_img_031_5.png', 'generated_img_031_6.png', 'generated_img_031_7.png', 'generated_img_031_8.png', 'generated_img_031_9.png', 'generated_img_032_0.png', 'generated_img_032_1.png', 'generated_img_032_2.png', 'generated_img_032_3.png', 'generated_img_032_4.png', 'generated_img_032_5.png', 'generated_img_032_6.png', 'generated_img_032_7.png', 'generated_img_032_8.png', 'generated_img_032_9.png', 'generated_img_033_0.png', 'generated_img_033_1.png', 'generated_img_033_2.png', 'generated_img_033_3.png', 'generated_img_033_4.png', 'generated_img_033_5.png', 'generated_img_033_6.png', 'generated_img_033_7.png', 'generated_img_033_8.png', 'generated_img_033_9.png', 'generated_img_034_0.png', 'generated_img_034_1.png', 'generated_img_034_2.png', 'generated_img_034_3.png', 'generated_img_034_4.png', 'generated_img_034_5.png', 'generated_img_034_6.png', 'generated_img_034_7.png', 'generated_img_034_8.png', 'generated_img_034_9.png', 'generated_img_035_0.png', 'generated_img_035_1.png', 'generated_img_035_2.png', 'generated_img_035_3.png', 'generated_img_035_4.png', 'generated_img_035_5.png', 'generated_img_035_6.png', 'generated_img_035_7.png', 'generated_img_035_8.png', 'generated_img_035_9.png', 'generated_img_036_0.png', 'generated_img_036_1.png', 'generated_img_036_2.png', 'generated_img_036_3.png', 'generated_img_036_4.png', 'generated_img_036_5.png', 'generated_img_036_6.png', 'generated_img_036_7.png', 'generated_img_036_8.png', 'generated_img_036_9.png', 'generated_img_037_0.png', 'generated_img_037_1.png', 'generated_img_037_2.png', 'generated_img_037_3.png', 'generated_img_037_4.png', 'generated_img_037_5.png', 'generated_img_037_6.png', 'generated_img_037_7.png', 'generated_img_037_8.png', 'generated_img_037_9.png', 'generated_img_038_0.png', 'generated_img_038_1.png', 'generated_img_038_2.png', 'generated_img_038_3.png', 'generated_img_038_4.png', 'generated_img_038_5.png', 'generated_img_038_6.png', 'generated_img_038_7.png', 'generated_img_038_8.png', 'generated_img_038_9.png', 'generated_img_039_0.png', 'generated_img_039_1.png', 'generated_img_039_2.png', 'generated_img_039_3.png', 'generated_img_039_4.png', 'generated_img_039_5.png', 'generated_img_039_6.png', 'generated_img_039_7.png', 'generated_img_039_8.png', 'generated_img_039_9.png', 'generated_img_040_0.png', 'generated_img_040_1.png', 'generated_img_040_2.png', 'generated_img_040_3.png', 'generated_img_040_4.png', 'generated_img_040_5.png', 'generated_img_040_6.png', 'generated_img_040_7.png', 'generated_img_040_8.png', 'generated_img_040_9.png', 'generated_img_041_0.png', 'generated_img_041_1.png', 'generated_img_041_2.png', 'generated_img_041_3.png', 'generated_img_041_4.png', 'generated_img_041_5.png', 'generated_img_041_6.png', 'generated_img_041_7.png', 'generated_img_041_8.png', 'generated_img_041_9.png', 'generated_img_042_0.png', 'generated_img_042_1.png', 'generated_img_042_2.png', 'generated_img_042_3.png', 'generated_img_042_4.png', 'generated_img_042_5.png', 'generated_img_042_6.png', 'generated_img_042_7.png', 'generated_img_042_8.png', 'generated_img_042_9.png', 'generated_img_043_0.png', 'generated_img_043_1.png', 'generated_img_043_2.png', 'generated_img_043_3.png', 'generated_img_043_4.png', 'generated_img_043_5.png', 'generated_img_043_6.png', 'generated_img_043_7.png', 'generated_img_043_8.png', 'generated_img_043_9.png', 'generated_img_044_0.png', 'generated_img_044_1.png', 'generated_img_044_2.png', 'generated_img_044_3.png', 'generated_img_044_4.png', 'generated_img_044_5.png', 'generated_img_044_6.png', 'generated_img_044_7.png', 'generated_img_044_8.png', 'generated_img_044_9.png', 'generated_img_045_0.png', 'generated_img_045_1.png', 'generated_img_045_2.png', 'generated_img_045_3.png', 'generated_img_045_4.png', 'generated_img_045_5.png', 'generated_img_045_6.png', 'generated_img_045_7.png', 'generated_img_045_8.png', 'generated_img_045_9.png', 'generated_img_046_0.png', 'generated_img_046_1.png', 'generated_img_046_2.png', 'generated_img_046_3.png', 'generated_img_046_4.png', 'generated_img_046_5.png', 'generated_img_046_6.png', 'generated_img_046_7.png', 'generated_img_046_8.png', 'generated_img_046_9.png', 'generated_img_047_0.png', 'generated_img_047_1.png', 'generated_img_047_2.png', 'generated_img_047_3.png', 'generated_img_047_4.png', 'generated_img_047_5.png', 'generated_img_047_6.png', 'generated_img_047_7.png', 'generated_img_047_8.png', 'generated_img_047_9.png', 'generated_img_048_0.png', 'generated_img_048_1.png', 'generated_img_048_2.png', 'generated_img_048_3.png', 'generated_img_048_4.png', 'generated_img_048_5.png', 'generated_img_048_6.png', 'generated_img_048_7.png', 'generated_img_048_8.png', 'generated_img_048_9.png', 'generated_img_049_0.png', 'generated_img_049_1.png', 'generated_img_049_2.png', 'generated_img_049_3.png', 'generated_img_049_4.png', 'generated_img_049_5.png', 'generated_img_049_6.png', 'generated_img_049_7.png', 'generated_img_049_8.png', 'generated_img_049_9.png', 'generated_img_050_0.png', 'generated_img_050_1.png', 'generated_img_050_2.png', 'generated_img_050_3.png', 'generated_img_050_4.png', 'generated_img_050_5.png', 'generated_img_050_6.png', 'generated_img_050_7.png', 'generated_img_050_8.png', 'generated_img_050_9.png', 'generated_img_051_0.png', 'generated_img_051_1.png', 'generated_img_051_2.png', 'generated_img_051_3.png', 'generated_img_051_4.png', 'generated_img_051_5.png', 'generated_img_051_6.png', 'generated_img_051_7.png', 'generated_img_051_8.png', 'generated_img_051_9.png', 'generated_img_052_0.png', 'generated_img_052_1.png', 'generated_img_052_2.png', 'generated_img_052_3.png', 'generated_img_052_4.png', 'generated_img_052_5.png', 'generated_img_052_6.png', 'generated_img_052_7.png', 'generated_img_052_8.png', 'generated_img_052_9.png', 'generated_img_053_0.png', 'generated_img_053_1.png', 'generated_img_053_2.png', 'generated_img_053_3.png', 'generated_img_053_4.png', 'generated_img_053_5.png', 'generated_img_053_6.png', 'generated_img_053_7.png', 'generated_img_053_8.png', 'generated_img_053_9.png', 'generated_img_054_0.png', 'generated_img_054_1.png', 'generated_img_054_2.png', 'generated_img_054_3.png', 'generated_img_054_4.png', 'generated_img_054_5.png', 'generated_img_054_6.png', 'generated_img_054_7.png', 'generated_img_054_8.png', 'generated_img_054_9.png', 'generated_img_055_0.png', 'generated_img_055_1.png', 'generated_img_055_2.png', 'generated_img_055_3.png', 'generated_img_055_4.png', 'generated_img_055_5.png', 'generated_img_055_6.png', 'generated_img_055_7.png', 'generated_img_055_8.png', 'generated_img_055_9.png', 'generated_img_056_0.png', 'generated_img_056_1.png', 'generated_img_056_2.png', 'generated_img_056_3.png', 'generated_img_056_4.png', 'generated_img_056_5.png', 'generated_img_056_6.png', 'generated_img_056_7.png', 'generated_img_056_8.png', 'generated_img_056_9.png', 'generated_img_057_0.png', 'generated_img_057_1.png', 'generated_img_057_2.png', 'generated_img_057_3.png', 'generated_img_057_4.png', 'generated_img_057_5.png', 'generated_img_057_6.png', 'generated_img_057_7.png', 'generated_img_057_8.png', 'generated_img_057_9.png', 'generated_img_058_0.png', 'generated_img_058_1.png', 'generated_img_058_2.png', 'generated_img_058_3.png', 'generated_img_058_4.png', 'generated_img_058_5.png', 'generated_img_058_6.png', 'generated_img_058_7.png', 'generated_img_058_8.png', 'generated_img_058_9.png', 'generated_img_059_0.png', 'generated_img_059_1.png', 'generated_img_059_2.png', 'generated_img_059_3.png', 'generated_img_059_4.png', 'generated_img_059_5.png', 'generated_img_059_6.png', 'generated_img_059_7.png', 'generated_img_059_8.png', 'generated_img_059_9.png', 'generated_img_060_0.png', 'generated_img_060_1.png', 'generated_img_060_2.png', 'generated_img_060_3.png', 'generated_img_060_4.png', 'generated_img_060_5.png', 'generated_img_060_6.png', 'generated_img_060_7.png', 'generated_img_060_8.png', 'generated_img_060_9.png', 'generated_img_061_0.png', 'generated_img_061_1.png', 'generated_img_061_2.png', 'generated_img_061_3.png', 'generated_img_061_4.png', 'generated_img_061_5.png', 'generated_img_061_6.png', 'generated_img_061_7.png', 'generated_img_061_8.png', 'generated_img_061_9.png', 'generated_img_062_0.png', 'generated_img_062_1.png', 'generated_img_062_2.png', 'generated_img_062_3.png', 'generated_img_062_4.png', 'generated_img_062_5.png', 'generated_img_062_6.png', 'generated_img_062_7.png', 'generated_img_062_8.png', 'generated_img_062_9.png', 'generated_img_063_0.png', 'generated_img_063_1.png', 'generated_img_063_2.png', 'generated_img_063_3.png', 'generated_img_063_4.png', 'generated_img_063_5.png', 'generated_img_063_6.png', 'generated_img_063_7.png', 'generated_img_063_8.png', 'generated_img_063_9.png', 'generated_img_064_0.png', 'generated_img_064_1.png', 'generated_img_064_2.png', 'generated_img_064_3.png', 'generated_img_064_4.png', 'generated_img_064_5.png', 'generated_img_064_6.png', 'generated_img_064_7.png', 'generated_img_064_8.png', 'generated_img_064_9.png', 'generated_img_065_0.png', 'generated_img_065_1.png', 'generated_img_065_2.png', 'generated_img_065_3.png', 'generated_img_065_4.png', 'generated_img_065_5.png', 'generated_img_065_6.png', 'generated_img_065_7.png', 'generated_img_065_8.png', 'generated_img_065_9.png', 'generated_img_066_0.png', 'generated_img_066_1.png', 'generated_img_066_2.png', 'generated_img_066_3.png', 'generated_img_066_4.png', 'generated_img_066_5.png', 'generated_img_066_6.png', 'generated_img_066_7.png', 'generated_img_066_8.png', 'generated_img_066_9.png', 'generated_img_067_0.png', 'generated_img_067_1.png', 'generated_img_067_2.png', 'generated_img_067_3.png', 'generated_img_067_4.png', 'generated_img_067_5.png', 'generated_img_067_6.png', 'generated_img_067_7.png', 'generated_img_067_8.png', 'generated_img_067_9.png', 'generated_img_068_0.png', 'generated_img_068_1.png', 'generated_img_068_2.png', 'generated_img_068_3.png', 'generated_img_068_4.png', 'generated_img_068_5.png', 'generated_img_068_6.png', 'generated_img_068_7.png', 'generated_img_068_8.png', 'generated_img_068_9.png', 'generated_img_069_0.png', 'generated_img_069_1.png', 'generated_img_069_2.png', 'generated_img_069_3.png', 'generated_img_069_4.png', 'generated_img_069_5.png', 'generated_img_069_6.png', 'generated_img_069_7.png', 'generated_img_069_8.png', 'generated_img_069_9.png', 'generated_img_070_0.png', 'generated_img_070_1.png', 'generated_img_070_2.png', 'generated_img_070_3.png', 'generated_img_070_4.png', 'generated_img_070_5.png', 'generated_img_070_6.png', 'generated_img_070_7.png', 'generated_img_070_8.png', 'generated_img_070_9.png', 'generated_img_071_0.png', 'generated_img_071_1.png', 'generated_img_071_2.png', 'generated_img_071_3.png', 'generated_img_071_4.png', 'generated_img_071_5.png', 'generated_img_071_6.png', 'generated_img_071_7.png', 'generated_img_071_8.png', 'generated_img_071_9.png', 'generated_img_072_0.png', 'generated_img_072_1.png', 'generated_img_072_2.png', 'generated_img_072_3.png', 'generated_img_072_4.png', 'generated_img_072_5.png', 'generated_img_072_6.png', 'generated_img_072_7.png', 'generated_img_072_8.png', 'generated_img_072_9.png', 'generated_img_073_0.png', 'generated_img_073_1.png', 'generated_img_073_2.png', 'generated_img_073_3.png', 'generated_img_073_4.png', 'generated_img_073_5.png', 'generated_img_073_6.png', 'generated_img_073_7.png', 'generated_img_073_8.png', 'generated_img_073_9.png', 'generated_img_074_0.png', 'generated_img_074_1.png', 'generated_img_074_2.png', 'generated_img_074_3.png', 'generated_img_074_4.png', 'generated_img_074_5.png', 'generated_img_074_6.png', 'generated_img_074_7.png', 'generated_img_074_8.png', 'generated_img_074_9.png', 'generated_img_075_0.png', 'generated_img_075_1.png', 'generated_img_075_2.png', 'generated_img_075_3.png', 'generated_img_075_4.png', 'generated_img_075_5.png', 'generated_img_075_6.png', 'generated_img_075_7.png', 'generated_img_075_8.png', 'generated_img_075_9.png', 'generated_img_076_0.png', 'generated_img_076_1.png', 'generated_img_076_2.png', 'generated_img_076_3.png', 'generated_img_076_4.png', 'generated_img_076_5.png', 'generated_img_076_6.png', 'generated_img_076_7.png', 'generated_img_076_8.png', 'generated_img_076_9.png', 'generated_img_077_0.png', 'generated_img_077_1.png', 'generated_img_077_2.png', 'generated_img_077_3.png', 'generated_img_077_4.png', 'generated_img_077_5.png', 'generated_img_077_6.png', 'generated_img_077_7.png', 'generated_img_077_8.png', 'generated_img_077_9.png', 'generated_img_078_0.png', 'generated_img_078_1.png', 'generated_img_078_2.png', 'generated_img_078_3.png', 'generated_img_078_4.png', 'generated_img_078_5.png', 'generated_img_078_6.png', 'generated_img_078_7.png', 'generated_img_078_8.png', 'generated_img_078_9.png', 'generated_img_079_0.png', 'generated_img_079_1.png', 'generated_img_079_2.png', 'generated_img_079_3.png', 'generated_img_079_4.png', 'generated_img_079_5.png', 'generated_img_079_6.png', 'generated_img_079_7.png', 'generated_img_079_8.png', 'generated_img_079_9.png', 'generated_img_080_0.png', 'generated_img_080_1.png', 'generated_img_080_2.png', 'generated_img_080_3.png', 'generated_img_080_4.png', 'generated_img_080_5.png', 'generated_img_080_6.png', 'generated_img_080_7.png', 'generated_img_080_8.png', 'generated_img_080_9.png', 'generated_img_081_0.png', 'generated_img_081_1.png', 'generated_img_081_2.png', 'generated_img_081_3.png', 'generated_img_081_4.png', 'generated_img_081_5.png', 'generated_img_081_6.png', 'generated_img_081_7.png', 'generated_img_081_8.png', 'generated_img_081_9.png', 'generated_img_082_0.png', 'generated_img_082_1.png', 'generated_img_082_2.png', 'generated_img_082_3.png', 'generated_img_082_4.png', 'generated_img_082_5.png', 'generated_img_082_6.png', 'generated_img_082_7.png', 'generated_img_082_8.png', 'generated_img_082_9.png', 'generated_img_083_0.png', 'generated_img_083_1.png', 'generated_img_083_2.png', 'generated_img_083_3.png', 'generated_img_083_4.png', 'generated_img_083_5.png', 'generated_img_083_6.png', 'generated_img_083_7.png', 'generated_img_083_8.png', 'generated_img_083_9.png', 'generated_img_084_0.png', 'generated_img_084_1.png', 'generated_img_084_2.png', 'generated_img_084_3.png', 'generated_img_084_4.png', 'generated_img_084_5.png', 'generated_img_084_6.png', 'generated_img_084_7.png', 'generated_img_084_8.png', 'generated_img_084_9.png', 'generated_img_085_0.png', 'generated_img_085_1.png', 'generated_img_085_2.png', 'generated_img_085_3.png', 'generated_img_085_4.png', 'generated_img_085_5.png', 'generated_img_085_6.png', 'generated_img_085_7.png', 'generated_img_085_8.png', 'generated_img_085_9.png', 'generated_img_086_0.png', 'generated_img_086_1.png', 'generated_img_086_2.png', 'generated_img_086_3.png', 'generated_img_086_4.png', 'generated_img_086_5.png', 'generated_img_086_6.png', 'generated_img_086_7.png', 'generated_img_086_8.png', 'generated_img_086_9.png', 'generated_img_087_0.png', 'generated_img_087_1.png', 'generated_img_087_2.png', 'generated_img_087_3.png', 'generated_img_087_4.png', 'generated_img_087_5.png', 'generated_img_087_6.png', 'generated_img_087_7.png', 'generated_img_087_8.png', 'generated_img_087_9.png', 'generated_img_088_0.png', 'generated_img_088_1.png', 'generated_img_088_2.png', 'generated_img_088_3.png', 'generated_img_088_4.png', 'generated_img_088_5.png', 'generated_img_088_6.png', 'generated_img_088_7.png', 'generated_img_088_8.png', 'generated_img_088_9.png', 'generated_img_089_0.png', 'generated_img_089_1.png', 'generated_img_089_2.png', 'generated_img_089_3.png', 'generated_img_089_4.png', 'generated_img_089_5.png', 'generated_img_089_6.png', 'generated_img_089_7.png', 'generated_img_089_8.png', 'generated_img_089_9.png', 'generated_img_090_0.png', 'generated_img_090_1.png', 'generated_img_090_2.png', 'generated_img_090_3.png', 'generated_img_090_4.png', 'generated_img_090_5.png', 'generated_img_090_6.png', 'generated_img_090_7.png', 'generated_img_090_8.png', 'generated_img_090_9.png', 'generated_img_091_0.png', 'generated_img_091_1.png', 'generated_img_091_2.png', 'generated_img_091_3.png', 'generated_img_091_4.png', 'generated_img_091_5.png', 'generated_img_091_6.png', 'generated_img_091_7.png', 'generated_img_091_8.png', 'generated_img_091_9.png', 'generated_img_092_0.png', 'generated_img_092_1.png', 'generated_img_092_2.png', 'generated_img_092_3.png', 'generated_img_092_4.png', 'generated_img_092_5.png', 'generated_img_092_6.png', 'generated_img_092_7.png', 'generated_img_092_8.png', 'generated_img_092_9.png', 'generated_img_093_0.png', 'generated_img_093_1.png', 'generated_img_093_2.png', 'generated_img_093_3.png', 'generated_img_093_4.png', 'generated_img_093_5.png', 'generated_img_093_6.png', 'generated_img_093_7.png', 'generated_img_093_8.png', 'generated_img_093_9.png', 'generated_img_094_0.png', 'generated_img_094_1.png', 'generated_img_094_2.png', 'generated_img_094_3.png', 'generated_img_094_4.png', 'generated_img_094_5.png', 'generated_img_094_6.png', 'generated_img_094_7.png', 'generated_img_094_8.png', 'generated_img_094_9.png', 'generated_img_095_0.png', 'generated_img_095_1.png', 'generated_img_095_2.png', 'generated_img_095_3.png', 'generated_img_095_4.png', 'generated_img_095_5.png', 'generated_img_095_6.png', 'generated_img_095_7.png', 'generated_img_095_8.png', 'generated_img_095_9.png', 'generated_img_096_0.png', 'generated_img_096_1.png', 'generated_img_096_2.png', 'generated_img_096_3.png', 'generated_img_096_4.png', 'generated_img_096_5.png', 'generated_img_096_6.png', 'generated_img_096_7.png', 'generated_img_096_8.png', 'generated_img_096_9.png', 'generated_img_097_0.png', 'generated_img_097_1.png', 'generated_img_097_2.png', 'generated_img_097_3.png', 'generated_img_097_4.png', 'generated_img_097_5.png', 'generated_img_097_6.png', 'generated_img_097_7.png', 'generated_img_097_8.png', 'generated_img_097_9.png', 'generated_img_098_0.png', 'generated_img_098_1.png', 'generated_img_098_2.png', 'generated_img_098_3.png', 'generated_img_098_4.png', 'generated_img_098_5.png', 'generated_img_098_6.png', 'generated_img_098_7.png', 'generated_img_098_8.png', 'generated_img_098_9.png', 'generated_img_099_0.png', 'generated_img_099_1.png', 'generated_img_099_2.png', 'generated_img_099_3.png', 'generated_img_099_4.png', 'generated_img_099_5.png', 'generated_img_099_6.png', 'generated_img_099_7.png', 'generated_img_099_8.png', 'generated_img_099_9.png']\n"
          ]
        }
      ]
    },
    {
      "cell_type": "code",
      "source": [
        "import matplotlib.pyplot as plt\n",
        "\n",
        "# Load the generated image\n",
        "img = plt.imread('generated_img_099_9.png')\n",
        "\n",
        "# Show the image\n",
        "plt.imshow(img)\n",
        "plt.show()\n"
      ],
      "metadata": {
        "colab": {
          "base_uri": "https://localhost:8080/",
          "height": 432
        },
        "id": "RtR_TMa8Uc6Y",
        "outputId": "fef67a7f-9229-480d-f213-0aacf771472e"
      },
      "execution_count": 25,
      "outputs": [
        {
          "output_type": "display_data",
          "data": {
            "text/plain": [
              "<Figure size 640x480 with 1 Axes>"
            ],
            "image/png": "[encoded data removed]"
          },
          "metadata": {}
        }
      ]
    }
  ]
}